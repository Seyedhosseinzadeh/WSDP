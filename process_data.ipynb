{
  "nbformat": 4,
  "nbformat_minor": 0,
  "metadata": {
    "colab": {
      "name": "process_data.ipynb",
      "provenance": [],
      "collapsed_sections": []
    },
    "kernelspec": {
      "name": "python3",
      "display_name": "Python 3"
    },
    "language_info": {
      "name": "python"
    }
  },
  "cells": [
    {
      "cell_type": "code",
      "source": [
        "import numpy as np\n",
        "import re\n",
        "import pandas as pd\n",
        "\n",
        "all_df = pd.read_csv('london_All7year.csv', delimiter=',')\n",
        "\n",
        "#seprate_date\n",
        "all_df[['day','hour']] = all_df['date'].str.split(' ', 1, expand=True)\n",
        "all_df[['month','hour']] = all_df['hour'].str.split(' ', 1, expand=True)\n",
        "all_df[['day_date','hour']] = all_df['hour'].str.split(' ', 1, expand=True)\n",
        "all_df.head(3)\n",
        "all_df[['year','hour']] = all_df['hour'].str.split(' ', 1, expand=True)\n",
        "all_df[['start_hour','end_hour']] = all_df['hour'].str.split('—', 1, expand=True)\n",
        "all_df['day'] = all_df['day'].replace(',', '',regex=True)\n",
        "all_df['day_date'] = all_df['day_date'].replace(',', '',regex=True)\n",
        "all_df['year'] = all_df['year'].replace(',', '',regex=True)\n",
        "\n",
        "all_df = all_df.drop(columns=['hour'])\n",
        "#all_df.to_csv('clean_Weather_london_1.csv', sep=',')\n",
        "all_df = all_df[['date', 'date_id','wind','desc','temp','baro','hum','year','month','day','day_date','start_hour','end_hour']]\n",
        "all_df[['wind', 'temp','baro']] = all_df[['wind', 'temp','baro']].astype(float)\n",
        "all_df[['hum', 'year','day_date']] = all_df[['hum', 'year','day_date']].astype(int)"
      ],
      "metadata": {
        "id": "Ho6oiGD5tfv2"
      },
      "execution_count": 146,
      "outputs": []
    },
    {
      "cell_type": "code",
      "source": [
        "from datetime import datetime\n",
        "\n",
        "#convert 12 hour to 24 hour \n",
        "all_df['start_hour'] = pd.to_datetime(all_df['start_hour']).dt.strftime('%H:%M')\n",
        "\n",
        "#end hour is ' 6:00 am' so it has extra space\n",
        "#remove space\n",
        "all_df['end_hour']=all_df['end_hour'].str.replace(' ', '')\n",
        "all_df['end_hour'] = pd.to_datetime(all_df['end_hour']).dt.strftime('%H:%M')\n",
        "\n",
        "# convert month name to number\n",
        "all_df['month'] = pd.to_datetime(all_df.month, format='%B').dt.month\n",
        "all_df.head(3)"
      ],
      "metadata": {
        "colab": {
          "base_uri": "https://localhost:8080/",
          "height": 187
        },
        "id": "AxMhqyhH6cnD",
        "outputId": "d13f6dc4-f024-439e-e6e9-df6683563e6a"
      },
      "execution_count": 147,
      "outputs": [
        {
          "output_type": "execute_result",
          "data": {
            "text/html": [
              "\n",
              "  <div id=\"df-d9802bda-6673-44ad-8489-7de816e0fc9d\">\n",
              "    <div class=\"colab-df-container\">\n",
              "      <div>\n",
              "<style scoped>\n",
              "    .dataframe tbody tr th:only-of-type {\n",
              "        vertical-align: middle;\n",
              "    }\n",
              "\n",
              "    .dataframe tbody tr th {\n",
              "        vertical-align: top;\n",
              "    }\n",
              "\n",
              "    .dataframe thead th {\n",
              "        text-align: right;\n",
              "    }\n",
              "</style>\n",
              "<table border=\"1\" class=\"dataframe\">\n",
              "  <thead>\n",
              "    <tr style=\"text-align: right;\">\n",
              "      <th></th>\n",
              "      <th>date</th>\n",
              "      <th>date_id</th>\n",
              "      <th>wind</th>\n",
              "      <th>desc</th>\n",
              "      <th>temp</th>\n",
              "      <th>baro</th>\n",
              "      <th>hum</th>\n",
              "      <th>year</th>\n",
              "      <th>month</th>\n",
              "      <th>day</th>\n",
              "      <th>day_date</th>\n",
              "      <th>start_hour</th>\n",
              "      <th>end_hour</th>\n",
              "    </tr>\n",
              "  </thead>\n",
              "  <tbody>\n",
              "    <tr>\n",
              "      <th>0</th>\n",
              "      <td>Friday, January 1, 2021, 12:00 am — 6:00 am</td>\n",
              "      <td>1.609459e+12</td>\n",
              "      <td>4.971</td>\n",
              "      <td>Low clouds.</td>\n",
              "      <td>32.0</td>\n",
              "      <td>29.82</td>\n",
              "      <td>99</td>\n",
              "      <td>2021</td>\n",
              "      <td>1</td>\n",
              "      <td>Friday</td>\n",
              "      <td>1</td>\n",
              "      <td>00:00</td>\n",
              "      <td>06:00</td>\n",
              "    </tr>\n",
              "    <tr>\n",
              "      <th>1</th>\n",
              "      <td>Friday, January 1, 2021, 6:00 am — 12:00 pm</td>\n",
              "      <td>1.609481e+12</td>\n",
              "      <td>4.971</td>\n",
              "      <td>Low clouds.</td>\n",
              "      <td>33.8</td>\n",
              "      <td>29.86</td>\n",
              "      <td>94</td>\n",
              "      <td>2021</td>\n",
              "      <td>1</td>\n",
              "      <td>Friday</td>\n",
              "      <td>1</td>\n",
              "      <td>06:00</td>\n",
              "      <td>12:00</td>\n",
              "    </tr>\n",
              "    <tr>\n",
              "      <th>2</th>\n",
              "      <td>Friday, January 1, 2021, 12:00 pm — 6:00 pm</td>\n",
              "      <td>1.609502e+12</td>\n",
              "      <td>4.350</td>\n",
              "      <td>Drizzle. Low clouds.</td>\n",
              "      <td>37.4</td>\n",
              "      <td>29.87</td>\n",
              "      <td>96</td>\n",
              "      <td>2021</td>\n",
              "      <td>1</td>\n",
              "      <td>Friday</td>\n",
              "      <td>1</td>\n",
              "      <td>12:00</td>\n",
              "      <td>18:00</td>\n",
              "    </tr>\n",
              "  </tbody>\n",
              "</table>\n",
              "</div>\n",
              "      <button class=\"colab-df-convert\" onclick=\"convertToInteractive('df-d9802bda-6673-44ad-8489-7de816e0fc9d')\"\n",
              "              title=\"Convert this dataframe to an interactive table.\"\n",
              "              style=\"display:none;\">\n",
              "        \n",
              "  <svg xmlns=\"http://www.w3.org/2000/svg\" height=\"24px\"viewBox=\"0 0 24 24\"\n",
              "       width=\"24px\">\n",
              "    <path d=\"M0 0h24v24H0V0z\" fill=\"none\"/>\n",
              "    <path d=\"M18.56 5.44l.94 2.06.94-2.06 2.06-.94-2.06-.94-.94-2.06-.94 2.06-2.06.94zm-11 1L8.5 8.5l.94-2.06 2.06-.94-2.06-.94L8.5 2.5l-.94 2.06-2.06.94zm10 10l.94 2.06.94-2.06 2.06-.94-2.06-.94-.94-2.06-.94 2.06-2.06.94z\"/><path d=\"M17.41 7.96l-1.37-1.37c-.4-.4-.92-.59-1.43-.59-.52 0-1.04.2-1.43.59L10.3 9.45l-7.72 7.72c-.78.78-.78 2.05 0 2.83L4 21.41c.39.39.9.59 1.41.59.51 0 1.02-.2 1.41-.59l7.78-7.78 2.81-2.81c.8-.78.8-2.07 0-2.86zM5.41 20L4 18.59l7.72-7.72 1.47 1.35L5.41 20z\"/>\n",
              "  </svg>\n",
              "      </button>\n",
              "      \n",
              "  <style>\n",
              "    .colab-df-container {\n",
              "      display:flex;\n",
              "      flex-wrap:wrap;\n",
              "      gap: 12px;\n",
              "    }\n",
              "\n",
              "    .colab-df-convert {\n",
              "      background-color: #E8F0FE;\n",
              "      border: none;\n",
              "      border-radius: 50%;\n",
              "      cursor: pointer;\n",
              "      display: none;\n",
              "      fill: #1967D2;\n",
              "      height: 32px;\n",
              "      padding: 0 0 0 0;\n",
              "      width: 32px;\n",
              "    }\n",
              "\n",
              "    .colab-df-convert:hover {\n",
              "      background-color: #E2EBFA;\n",
              "      box-shadow: 0px 1px 2px rgba(60, 64, 67, 0.3), 0px 1px 3px 1px rgba(60, 64, 67, 0.15);\n",
              "      fill: #174EA6;\n",
              "    }\n",
              "\n",
              "    [theme=dark] .colab-df-convert {\n",
              "      background-color: #3B4455;\n",
              "      fill: #D2E3FC;\n",
              "    }\n",
              "\n",
              "    [theme=dark] .colab-df-convert:hover {\n",
              "      background-color: #434B5C;\n",
              "      box-shadow: 0px 1px 3px 1px rgba(0, 0, 0, 0.15);\n",
              "      filter: drop-shadow(0px 1px 2px rgba(0, 0, 0, 0.3));\n",
              "      fill: #FFFFFF;\n",
              "    }\n",
              "  </style>\n",
              "\n",
              "      <script>\n",
              "        const buttonEl =\n",
              "          document.querySelector('#df-d9802bda-6673-44ad-8489-7de816e0fc9d button.colab-df-convert');\n",
              "        buttonEl.style.display =\n",
              "          google.colab.kernel.accessAllowed ? 'block' : 'none';\n",
              "\n",
              "        async function convertToInteractive(key) {\n",
              "          const element = document.querySelector('#df-d9802bda-6673-44ad-8489-7de816e0fc9d');\n",
              "          const dataTable =\n",
              "            await google.colab.kernel.invokeFunction('convertToInteractive',\n",
              "                                                     [key], {});\n",
              "          if (!dataTable) return;\n",
              "\n",
              "          const docLinkHtml = 'Like what you see? Visit the ' +\n",
              "            '<a target=\"_blank\" href=https://colab.research.google.com/notebooks/data_table.ipynb>data table notebook</a>'\n",
              "            + ' to learn more about interactive tables.';\n",
              "          element.innerHTML = '';\n",
              "          dataTable['output_type'] = 'display_data';\n",
              "          await google.colab.output.renderOutput(dataTable, element);\n",
              "          const docLink = document.createElement('div');\n",
              "          docLink.innerHTML = docLinkHtml;\n",
              "          element.appendChild(docLink);\n",
              "        }\n",
              "      </script>\n",
              "    </div>\n",
              "  </div>\n",
              "  "
            ],
            "text/plain": [
              "                                          date  ...  end_hour\n",
              "0  Friday, January 1, 2021, 12:00 am — 6:00 am  ...     06:00\n",
              "1  Friday, January 1, 2021, 6:00 am — 12:00 pm  ...     12:00\n",
              "2  Friday, January 1, 2021, 12:00 pm — 6:00 pm  ...     18:00\n",
              "\n",
              "[3 rows x 13 columns]"
            ]
          },
          "metadata": {},
          "execution_count": 147
        }
      ]
    },
    {
      "cell_type": "code",
      "source": [
        "all_df.head(15)\n",
        "all_df.to_csv(\"cleanAll7Year.csv\", index=False) "
      ],
      "metadata": {
        "id": "e6UtN5RQX5_w"
      },
      "execution_count": 149,
      "outputs": []
    },
    {
      "cell_type": "code",
      "source": [
        "days = {'Monday':0, 'Tuesday':1,'Wednesday': 2, 'Thursday':3, 'Friday':4,'Saturday': 5, 'Sunday':6}\n",
        "all_df['day'] = all_df['day'].map(days)\n",
        "all_df.head(2)"
      ],
      "metadata": {
        "colab": {
          "base_uri": "https://localhost:8080/",
          "height": 112
        },
        "id": "LUKEF_RHIC_A",
        "outputId": "e08408a9-9b29-4a2c-c9e6-e2d53dc48aaa"
      },
      "execution_count": 150,
      "outputs": [
        {
          "output_type": "execute_result",
          "data": {
            "text/html": [
              "\n",
              "  <div id=\"df-7e857641-66f2-4499-9df8-cc5f4462c5d8\">\n",
              "    <div class=\"colab-df-container\">\n",
              "      <div>\n",
              "<style scoped>\n",
              "    .dataframe tbody tr th:only-of-type {\n",
              "        vertical-align: middle;\n",
              "    }\n",
              "\n",
              "    .dataframe tbody tr th {\n",
              "        vertical-align: top;\n",
              "    }\n",
              "\n",
              "    .dataframe thead th {\n",
              "        text-align: right;\n",
              "    }\n",
              "</style>\n",
              "<table border=\"1\" class=\"dataframe\">\n",
              "  <thead>\n",
              "    <tr style=\"text-align: right;\">\n",
              "      <th></th>\n",
              "      <th>date</th>\n",
              "      <th>date_id</th>\n",
              "      <th>wind</th>\n",
              "      <th>desc</th>\n",
              "      <th>temp</th>\n",
              "      <th>baro</th>\n",
              "      <th>hum</th>\n",
              "      <th>year</th>\n",
              "      <th>month</th>\n",
              "      <th>day</th>\n",
              "      <th>day_date</th>\n",
              "      <th>start_hour</th>\n",
              "      <th>end_hour</th>\n",
              "    </tr>\n",
              "  </thead>\n",
              "  <tbody>\n",
              "    <tr>\n",
              "      <th>0</th>\n",
              "      <td>Friday, January 1, 2021, 12:00 am — 6:00 am</td>\n",
              "      <td>1.609459e+12</td>\n",
              "      <td>4.971</td>\n",
              "      <td>Low clouds.</td>\n",
              "      <td>32.0</td>\n",
              "      <td>29.82</td>\n",
              "      <td>99</td>\n",
              "      <td>2021</td>\n",
              "      <td>1</td>\n",
              "      <td>4</td>\n",
              "      <td>1</td>\n",
              "      <td>00:00</td>\n",
              "      <td>06:00</td>\n",
              "    </tr>\n",
              "    <tr>\n",
              "      <th>1</th>\n",
              "      <td>Friday, January 1, 2021, 6:00 am — 12:00 pm</td>\n",
              "      <td>1.609481e+12</td>\n",
              "      <td>4.971</td>\n",
              "      <td>Low clouds.</td>\n",
              "      <td>33.8</td>\n",
              "      <td>29.86</td>\n",
              "      <td>94</td>\n",
              "      <td>2021</td>\n",
              "      <td>1</td>\n",
              "      <td>4</td>\n",
              "      <td>1</td>\n",
              "      <td>06:00</td>\n",
              "      <td>12:00</td>\n",
              "    </tr>\n",
              "  </tbody>\n",
              "</table>\n",
              "</div>\n",
              "      <button class=\"colab-df-convert\" onclick=\"convertToInteractive('df-7e857641-66f2-4499-9df8-cc5f4462c5d8')\"\n",
              "              title=\"Convert this dataframe to an interactive table.\"\n",
              "              style=\"display:none;\">\n",
              "        \n",
              "  <svg xmlns=\"http://www.w3.org/2000/svg\" height=\"24px\"viewBox=\"0 0 24 24\"\n",
              "       width=\"24px\">\n",
              "    <path d=\"M0 0h24v24H0V0z\" fill=\"none\"/>\n",
              "    <path d=\"M18.56 5.44l.94 2.06.94-2.06 2.06-.94-2.06-.94-.94-2.06-.94 2.06-2.06.94zm-11 1L8.5 8.5l.94-2.06 2.06-.94-2.06-.94L8.5 2.5l-.94 2.06-2.06.94zm10 10l.94 2.06.94-2.06 2.06-.94-2.06-.94-.94-2.06-.94 2.06-2.06.94z\"/><path d=\"M17.41 7.96l-1.37-1.37c-.4-.4-.92-.59-1.43-.59-.52 0-1.04.2-1.43.59L10.3 9.45l-7.72 7.72c-.78.78-.78 2.05 0 2.83L4 21.41c.39.39.9.59 1.41.59.51 0 1.02-.2 1.41-.59l7.78-7.78 2.81-2.81c.8-.78.8-2.07 0-2.86zM5.41 20L4 18.59l7.72-7.72 1.47 1.35L5.41 20z\"/>\n",
              "  </svg>\n",
              "      </button>\n",
              "      \n",
              "  <style>\n",
              "    .colab-df-container {\n",
              "      display:flex;\n",
              "      flex-wrap:wrap;\n",
              "      gap: 12px;\n",
              "    }\n",
              "\n",
              "    .colab-df-convert {\n",
              "      background-color: #E8F0FE;\n",
              "      border: none;\n",
              "      border-radius: 50%;\n",
              "      cursor: pointer;\n",
              "      display: none;\n",
              "      fill: #1967D2;\n",
              "      height: 32px;\n",
              "      padding: 0 0 0 0;\n",
              "      width: 32px;\n",
              "    }\n",
              "\n",
              "    .colab-df-convert:hover {\n",
              "      background-color: #E2EBFA;\n",
              "      box-shadow: 0px 1px 2px rgba(60, 64, 67, 0.3), 0px 1px 3px 1px rgba(60, 64, 67, 0.15);\n",
              "      fill: #174EA6;\n",
              "    }\n",
              "\n",
              "    [theme=dark] .colab-df-convert {\n",
              "      background-color: #3B4455;\n",
              "      fill: #D2E3FC;\n",
              "    }\n",
              "\n",
              "    [theme=dark] .colab-df-convert:hover {\n",
              "      background-color: #434B5C;\n",
              "      box-shadow: 0px 1px 3px 1px rgba(0, 0, 0, 0.15);\n",
              "      filter: drop-shadow(0px 1px 2px rgba(0, 0, 0, 0.3));\n",
              "      fill: #FFFFFF;\n",
              "    }\n",
              "  </style>\n",
              "\n",
              "      <script>\n",
              "        const buttonEl =\n",
              "          document.querySelector('#df-7e857641-66f2-4499-9df8-cc5f4462c5d8 button.colab-df-convert');\n",
              "        buttonEl.style.display =\n",
              "          google.colab.kernel.accessAllowed ? 'block' : 'none';\n",
              "\n",
              "        async function convertToInteractive(key) {\n",
              "          const element = document.querySelector('#df-7e857641-66f2-4499-9df8-cc5f4462c5d8');\n",
              "          const dataTable =\n",
              "            await google.colab.kernel.invokeFunction('convertToInteractive',\n",
              "                                                     [key], {});\n",
              "          if (!dataTable) return;\n",
              "\n",
              "          const docLinkHtml = 'Like what you see? Visit the ' +\n",
              "            '<a target=\"_blank\" href=https://colab.research.google.com/notebooks/data_table.ipynb>data table notebook</a>'\n",
              "            + ' to learn more about interactive tables.';\n",
              "          element.innerHTML = '';\n",
              "          dataTable['output_type'] = 'display_data';\n",
              "          await google.colab.output.renderOutput(dataTable, element);\n",
              "          const docLink = document.createElement('div');\n",
              "          docLink.innerHTML = docLinkHtml;\n",
              "          element.appendChild(docLink);\n",
              "        }\n",
              "      </script>\n",
              "    </div>\n",
              "  </div>\n",
              "  "
            ],
            "text/plain": [
              "                                          date  ...  end_hour\n",
              "0  Friday, January 1, 2021, 12:00 am — 6:00 am  ...     06:00\n",
              "1  Friday, January 1, 2021, 6:00 am — 12:00 pm  ...     12:00\n",
              "\n",
              "[2 rows x 13 columns]"
            ]
          },
          "metadata": {},
          "execution_count": 150
        }
      ]
    },
    {
      "cell_type": "code",
      "source": [
        "import pandas as pd\n",
        "import matplotlib.pyplot as plt\n",
        "\n",
        "# in all 7 years_ mean temp of each weekday \n",
        "df= all_df.groupby(['day'])['temp'].mean().reset_index()\n",
        "df2= all_df.groupby(['day'])['hum'].mean().reset_index()\n",
        "\n",
        "ax=df.plot(x ='day', y='temp', kind = 'line' , color=['green'])\n",
        "ax2=df2.plot(x ='day', y='hum', kind = 'line' , color=['red'])\n",
        "ax.set_ylabel(\"temp\")\n",
        "ax.set_xlabel(\"day\")\n",
        "\n",
        "ax2.set_ylabel(\"hum\")\n",
        "ax2.set_xlabel(\"day\")\n",
        "#plt.yticks(np.arange(53, 80, 1))\n",
        "#plt.savefig('meanTemp_weekday.pdf')\n",
        "plt.show()"
      ],
      "metadata": {
        "colab": {
          "base_uri": "https://localhost:8080/",
          "height": 541
        },
        "id": "Y23GfHU6QFFT",
        "outputId": "6924423d-888c-4545-ffb0-540051500fb6"
      },
      "execution_count": 151,
      "outputs": [
        {
          "output_type": "display_data",
          "data": {
            "image/png": "[encoded data removed]",
            "text/plain": [
              "<Figure size 432x288 with 1 Axes>"
            ]
          },
          "metadata": {
            "needs_background": "light"
          }
        },
        {
          "output_type": "display_data",
          "data": {
            "image/png": "[encoded data removed]",
            "text/plain": [
              "<Figure size 432x288 with 1 Axes>"
            ]
          },
          "metadata": {
            "needs_background": "light"
          }
        }
      ]
    },
    {
      "cell_type": "code",
      "source": [
        "# mean_temp in all month of 7 years\n",
        "df_m= all_df.groupby(['month'])['temp'].mean().reset_index()\n",
        "\n",
        "ax=df_m.plot(x ='month', y='temp', kind = 'line' , color=['red'])\n",
        "ax.set_ylabel(\"temp\")\n",
        "ax.set_xlabel(\"month\")\n",
        "plt.show()"
      ],
      "metadata": {
        "colab": {
          "base_uri": "https://localhost:8080/",
          "height": 279
        },
        "id": "xsXCE-1xAik1",
        "outputId": "d0f33d00-9ad0-4cdb-9c58-49c3c375ec34"
      },
      "execution_count": 124,
      "outputs": [
        {
          "output_type": "display_data",
          "data": {
            "image/png": "[encoded data removed]",
            "text/plain": [
              "<Figure size 432x288 with 1 Axes>"
            ]
          },
          "metadata": {
            "needs_background": "light"
          }
        }
      ]
    },
    {
      "cell_type": "code",
      "source": [
        "ax=all_df.plot(x ='date_id', y='temp', kind = 'line' , color=['red'])\n",
        "ax.set_ylabel(\"temp\")\n",
        "ax.set_xlabel(\"date_id\")\n",
        "plt.show()"
      ],
      "metadata": {
        "colab": {
          "base_uri": "https://localhost:8080/",
          "height": 280
        },
        "id": "FWB1yuaoXite",
        "outputId": "bd3e0ca4-881d-4af7-83e6-c4aecf84273e"
      },
      "execution_count": 141,
      "outputs": [
        {
          "output_type": "display_data",
          "data": {
            "image/png": "[encoded data removed]",
            "text/plain": [
              "<Figure size 432x288 with 1 Axes>"
            ]
          },
          "metadata": {
            "needs_background": "light"
          }
        }
      ]
    }
  ]
}